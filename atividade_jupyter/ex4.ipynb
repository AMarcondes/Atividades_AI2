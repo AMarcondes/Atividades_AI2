{
 "cells": [
  {
   "cell_type": "markdown",
   "metadata": {},
   "source": [
    "## Como escrever os símbolos reservados para a sintaxe no nas células markdown?"
   ]
  },
  {
   "cell_type": "markdown",
   "metadata": {},
   "source": [
    "Basta adicionar a barra invertida (\\) antes de cada símbolo, como demonstrado nos exemplos abaixo.\n",
    "\n",
    "Se escrevermos `**Olá**`, teremos \"olá\" em negrito:\n",
    "\n",
    "**Olá**\n",
    "\n",
    "Se escrevermos `\\**Olá*\\*`, teremos \"olá\" em itálico, com um asterisco de cada lado:\n",
    "\n",
    "\\**Olá*\\*\n",
    "\n",
    "Se escrevermos `\\*\\*Olá\\*\\*`, teremos \"olá\" escrito com a fonte normal, com dois asteriscos de cada lado:\n",
    "\n",
    "\\*\\*Olá\\*\\*\n",
    "\n",
    "O mesmo válido para os demais símbolos:\n",
    "\n",
    "Escrevendo `# olá`:\n",
    "\n",
    "# olá\n",
    "\n",
    "Escrevendo `\\# olá`:\n",
    "\n",
    "\\# olá"
   ]
  },
  {
   "cell_type": "code",
   "execution_count": null,
   "metadata": {},
   "outputs": [],
   "source": []
  }
 ],
 "metadata": {
  "kernelspec": {
   "display_name": "Python 3",
   "language": "python",
   "name": "python3"
  },
  "language_info": {
   "codemirror_mode": {
    "name": "ipython",
    "version": 3
   },
   "file_extension": ".py",
   "mimetype": "text/x-python",
   "name": "python",
   "nbconvert_exporter": "python",
   "pygments_lexer": "ipython3",
   "version": "3.7.4"
  }
 },
 "nbformat": 4,
 "nbformat_minor": 2
}
