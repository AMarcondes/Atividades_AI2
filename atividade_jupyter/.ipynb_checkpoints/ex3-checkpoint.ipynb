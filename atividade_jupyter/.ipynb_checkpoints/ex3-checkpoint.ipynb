{
 "cells": [
  {
   "cell_type": "markdown",
   "metadata": {},
   "source": [
    "# Como redimensionar sua imagem em uma célula markdown\n"
   ]
  },
  {
   "cell_type": "markdown",
   "metadata": {},
   "source": [
    "Basta adicionar o código em HTML no seguinte formato:\n",
    "\n",
    "`<img src=\"image.jpg\" width=\"100\"/>`\n",
    "\n",
    "O atributo \"width\" é responsável pelo redimensionamento da imagem e seu valor é dado em pixels.\n",
    "\n",
    "<img src=\"Funny-fighting-between-two-cats.jpg\" width=\"100\"/>\n",
    "<img src=\"Funny-fighting-between-two-cats.jpg\" width=\"200\"/>\n",
    "<img src=\"Funny-fighting-between-two-cats.jpg\" width=\"300\"/>\n"
   ]
  },
  {
   "cell_type": "code",
   "execution_count": null,
   "metadata": {},
   "outputs": [],
   "source": []
  },
  {
   "cell_type": "code",
   "execution_count": null,
   "metadata": {},
   "outputs": [],
   "source": []
  }
 ],
 "metadata": {
  "kernelspec": {
   "display_name": "Python 3",
   "language": "python",
   "name": "python3"
  },
  "language_info": {
   "codemirror_mode": {
    "name": "ipython",
    "version": 3
   },
   "file_extension": ".py",
   "mimetype": "text/x-python",
   "name": "python",
   "nbconvert_exporter": "python",
   "pygments_lexer": "ipython3",
   "version": "3.7.3"
  }
 },
 "nbformat": 4,
 "nbformat_minor": 2
}
