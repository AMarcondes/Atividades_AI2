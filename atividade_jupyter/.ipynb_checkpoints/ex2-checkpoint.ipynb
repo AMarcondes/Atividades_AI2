{
 "cells": [
  {
   "cell_type": "markdown",
   "metadata": {
    "slideshow": {
     "slide_type": "slide"
    }
   },
   "source": [
    "# A bibloteca Seaborn"
   ]
  },
  {
   "cell_type": "markdown",
   "metadata": {
    "slideshow": {
     "slide_type": "slide"
    }
   },
   "source": [
    "Seaborn é uma biblioteca  do Python para visualização de dados baseada no Matplotlib.\n",
    "Esta biblioteca proporciona a elaboração de gráficos estatísticos informativos e atrativos.\n",
    "Esta biblioteca oferece, entre outras utilidades:\n",
    "* APIs para análise da relação entre múltiplas variáveis;\n",
    "* Estimativa e plotagem automática de diferentes modelos de regressão linear;\n",
    "* Visão conveniente da estrutura geral de conjuntos de dados complexos."
   ]
  },
  {
   "cell_type": "markdown",
   "metadata": {
    "slideshow": {
     "slide_type": "slide"
    }
   },
   "source": [
    "Para instalar o pacote utilizando o pip ou  o conda:\n",
    "    \n",
    "`pip install seaborn`\n",
    "\n",
    "`conda install seaborn`\n",
    "\n",
    "Os seguitnes pacotes serão instalados como dependência:\n",
    "* Numpy;\n",
    "* Scipy;\n",
    "* Matplotlib;\n",
    "* Pandas."
   ]
  },
  {
   "cell_type": "code",
   "execution_count": 9,
   "metadata": {
    "slideshow": {
     "slide_type": "slide"
    }
   },
   "outputs": [
    {
     "ename": "SyntaxError",
     "evalue": "invalid syntax (<ipython-input-9-54faae80c2f2>, line 1)",
     "output_type": "error",
     "traceback": [
      "\u001b[1;36m  File \u001b[1;32m\"<ipython-input-9-54faae80c2f2>\"\u001b[1;36m, line \u001b[1;32m1\u001b[0m\n\u001b[1;33m    sudo pip install seaborn -y\u001b[0m\n\u001b[1;37m           ^\u001b[0m\n\u001b[1;31mSyntaxError\u001b[0m\u001b[1;31m:\u001b[0m invalid syntax\n"
     ]
    }
   ],
   "source": [
    "## Matpl"
   ]
  },
  {
   "cell_type": "code",
   "execution_count": null,
   "metadata": {},
   "outputs": [],
   "source": []
  }
 ],
 "metadata": {
  "celltoolbar": "Slideshow",
  "kernelspec": {
   "display_name": "Python [conda env:ativ_jup] *",
   "language": "python",
   "name": "conda-env-ativ_jup-py"
  },
  "language_info": {
   "codemirror_mode": {
    "name": "ipython",
    "version": 3
   },
   "file_extension": ".py",
   "mimetype": "text/x-python",
   "name": "python",
   "nbconvert_exporter": "python",
   "pygments_lexer": "ipython3",
   "version": "3.7.3"
  }
 },
 "nbformat": 4,
 "nbformat_minor": 2
}
