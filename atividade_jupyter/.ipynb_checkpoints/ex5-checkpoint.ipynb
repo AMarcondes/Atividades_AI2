{
 "cells": [
  {
   "cell_type": "code",
   "execution_count": 1,
   "metadata": {},
   "outputs": [
    {
     "name": "stdout",
     "output_type": "stream",
     "text": [
      "Collecting package metadata (current_repodata.json): done\n",
      "Solving environment: done\n",
      "\n",
      "## Package Plan ##\n",
      "\n",
      "  environment location: /home/alexandremarcondes/miniconda3/envs/ativ_jup\n",
      "\n",
      "  added / updated specs:\n",
      "    - matplotlib\n",
      "\n",
      "\n",
      "The following packages will be downloaded:\n",
      "\n",
      "    package                    |            build\n",
      "    ---------------------------|-----------------\n",
      "    cycler-0.10.0              |           py37_0          13 KB\n",
      "    kiwisolver-1.1.0           |   py37he6710b0_0          82 KB\n",
      "    matplotlib-3.1.1           |   py37h5429711_0         5.0 MB\n",
      "    pyparsing-2.4.2            |             py_0          61 KB\n",
      "    ------------------------------------------------------------\n",
      "                                           Total:         5.1 MB\n",
      "\n",
      "The following NEW packages will be INSTALLED:\n",
      "\n",
      "  cycler             pkgs/main/linux-64::cycler-0.10.0-py37_0\n",
      "  kiwisolver         pkgs/main/linux-64::kiwisolver-1.1.0-py37he6710b0_0\n",
      "  matplotlib         pkgs/main/linux-64::matplotlib-3.1.1-py37h5429711_0\n",
      "  pyparsing          pkgs/main/noarch::pyparsing-2.4.2-py_0\n",
      "\n",
      "\n",
      "\n",
      "Downloading and Extracting Packages\n",
      "cycler-0.10.0        | 13 KB     | ##################################### | 100% \n",
      "pyparsing-2.4.2      | 61 KB     | ##################################### | 100% \n",
      "matplotlib-3.1.1     | 5.0 MB    | ##################################### | 100% \n",
      "kiwisolver-1.1.0     | 82 KB     | ##################################### | 100% \n",
      "Preparing transaction: done\n",
      "Verifying transaction: done\n",
      "Executing transaction: done\n",
      "\n",
      "Note: you may need to restart the kernel to use updated packages.\n"
     ]
    }
   ],
   "source": [
    "#I\n",
    "conda install matplotlib -y"
   ]
  },
  {
   "cell_type": "code",
   "execution_count": null,
   "metadata": {},
   "outputs": [],
   "source": []
  }
 ],
 "metadata": {
  "kernelspec": {
   "display_name": "Python 3",
   "language": "python",
   "name": "python3"
  },
  "language_info": {
   "codemirror_mode": {
    "name": "ipython",
    "version": 3
   },
   "file_extension": ".py",
   "mimetype": "text/x-python",
   "name": "python",
   "nbconvert_exporter": "python",
   "pygments_lexer": "ipython3",
   "version": "3.7.3"
  }
 },
 "nbformat": 4,
 "nbformat_minor": 2
}
