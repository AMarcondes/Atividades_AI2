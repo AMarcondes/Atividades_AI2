{
 "cells": [
  {
   "cell_type": "markdown",
   "metadata": {
    "slideshow": {
     "slide_type": "slide"
    }
   },
   "source": [
    "# A bibloteca Seaborn"
   ]
  },
  {
   "cell_type": "markdown",
   "metadata": {
    "slideshow": {
     "slide_type": "slide"
    }
   },
   "source": [
    "## Visão geral\n",
    "Seaborn é uma biblioteca  do Python para visualização de dados baseada no Matplotlib.\n",
    "Esta biblioteca proporciona a elaboração de gráficos estatísticos informativos e atrativos.\n",
    "Esta biblioteca oferece, entre outras utilidades:\n",
    "* APIs para análise da relação entre múltiplas variáveis;\n",
    "* Estimativa e plotagem automática de diferentes modelos de regressão linear;\n",
    "* Visão conveniente da estrutura geral de conjuntos de dados complexos."
   ]
  },
  {
   "cell_type": "markdown",
   "metadata": {
    "slideshow": {
     "slide_type": "slide"
    }
   },
   "source": [
    "## Instalação\n",
    "Para instalar o pacote utilizando o pip ou  o conda:\n",
    "    \n",
    "`pip install seaborn`\n",
    "\n",
    "`conda install seaborn`\n",
    "\n",
    "Os seguitnes pacotes serão instalados como dependência:\n",
    "* Numpy;\n",
    "* Scipy;\n",
    "* Matplotlib;\n",
    "* Pandas."
   ]
  },
  {
   "cell_type": "markdown",
   "metadata": {
    "slideshow": {
     "slide_type": "slide"
    }
   },
   "source": [
    "## Matplotlib x Seaborn\n",
    "\n",
    "O Seaborn apresenta gráficos mais modernos esteticamente.\n",
    "<table align=\"center\"><tr><td><a /><img src='ex_matplotlib.png'>   <figcaption>Plot no Matplotlib</figcaption></td><td><a/><img src='ex_seaborn.png'>   <figcaption>Plot no Seaborn</figcaption></td></tr></table>"
   ]
  },
  {
   "cell_type": "markdown",
   "metadata": {},
   "source": [
    "## Referências\n",
    "\n",
    ">[Seaborn website](https://seaborn.pydata.org/index.html)\n",
    "\n",
    ">[Visualization with Seaborn](https://jakevdp.github.io/PythonDataScienceHandbook/04.14-visualization-with-seaborn.html)"
   ]
  }
 ],
 "metadata": {
  "celltoolbar": "Slideshow",
  "kernelspec": {
   "display_name": "Python [conda env:ativ_jup] *",
   "language": "python",
   "name": "conda-env-ativ_jup-py"
  },
  "language_info": {
   "codemirror_mode": {
    "name": "ipython",
    "version": 3
   },
   "file_extension": ".py",
   "mimetype": "text/x-python",
   "name": "python",
   "nbconvert_exporter": "python",
   "pygments_lexer": "ipython3",
   "version": "3.7.3"
  }
 },
 "nbformat": 4,
 "nbformat_minor": 2
}
