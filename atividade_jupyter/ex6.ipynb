{
 "cells": [
  {
   "cell_type": "markdown",
   "metadata": {},
   "source": [
    "## Função %%markdown"
   ]
  },
  {
   "cell_type": "markdown",
   "metadata": {},
   "source": [
    "Ao colocar `%%markdown` no início de uma célula de código, ela automaticamente se transforma em markdown.\n",
    "Porém, pode-se notar que ao executar este tipo de célula, o código segue aparecendo acima do output, diferentemente do que\n",
    "ocorre em uma célula markdown. Está célula é um exemplo deste comando.\n",
    "\n",
    "Como exemplo, o texto acima será colocado em uma célula de código com a função `%%markdown`."
   ]
  },
  {
   "cell_type": "code",
   "execution_count": 61,
   "metadata": {
    "scrolled": true
   },
   "outputs": [
    {
     "data": {
      "text/markdown": [
       "\n",
       "Ao colocar `%%markdown` no início de uma célula de código, ela automaticamente se transforma em markdown.\n",
       "Porém, pode-se notar que ao executar este tipo de célula, o código segue aparecendo acima do output, diferentemente do que\n",
       "ocorre em uma célula markdown. Está célula é um exemplo deste comando.\n"
      ],
      "text/plain": [
       "<IPython.core.display.Markdown object>"
      ]
     },
     "metadata": {},
     "output_type": "display_data"
    }
   ],
   "source": [
    "%%markdown\n",
    "\n",
    "Ao colocar `%%markdown` no início de uma célula de código, ela automaticamente se transforma em markdown.\n",
    "Porém, pode-se notar que ao executar este tipo de célula, o código segue aparecendo acima do output, diferentemente do que\n",
    "ocorre em uma célula markdown. Está célula é um exemplo deste comando."
   ]
  },
  {
   "cell_type": "markdown",
   "metadata": {},
   "source": [
    "## Função %rerun"
   ]
  },
  {
   "cell_type": "markdown",
   "metadata": {},
   "source": [
    "A função %rerun executa novamente o último comando. A saída terá o seguinte formato:\n",
    "\n",
    "```\n",
    "=== Executing: ===\n",
    "%ls\n",
    "=== Output: ===\n",
    " O volume na unidade C nÆo tem nome.\n",
    " O N£mero de S‚rie do Volume ‚ 78E6-4EFC\n",
    "```\n",
    "\n",
    "Ou seja, apresenta o último comando executado e a saída obtida."
   ]
  },
  {
   "cell_type": "markdown",
   "metadata": {},
   "source": [
    "## Função %mkdir"
   ]
  },
  {
   "cell_type": "markdown",
   "metadata": {},
   "source": [
    "A função %mkdir cria uma pasta no atual diretório. Possui a seguinte sintaxe:\n",
    "\n",
    "`mkdir nome_do_diretório`\n",
    "\n",
    "Por exemplo, a função\n",
    "\n",
    "`mkdir teste`\n",
    "\n",
    "cria um diretório denominado \"teste\"."
   ]
  },
  {
   "cell_type": "markdown",
   "metadata": {},
   "source": [
    "## Função %rmdir"
   ]
  },
  {
   "cell_type": "markdown",
   "metadata": {},
   "source": [
    "A função %rmdir apaga uma pasta no atual diretório. Possui a seguinte sintaxe:\n",
    "\n",
    "`rmdir nome_do_diretório`\n",
    "\n",
    "Por exemplo, a função\n",
    "\n",
    "`rmdir teste`\n",
    "\n",
    "apaga o diretório \"teste\" criado anteriormente."
   ]
  },
  {
   "cell_type": "markdown",
   "metadata": {},
   "source": [
    "## Função %writefile"
   ]
  },
  {
   "cell_type": "markdown",
   "metadata": {},
   "source": [
    "Ao escrever esta função em uma célula de código, o texto abaixo dela será adicionado a um arquivo de texto.\n",
    "Possui a seguinte sintaxe:\n",
    "\n",
    "`%writefile nome_do_arquivo.txt`\n",
    "\n",
    "Exemplo: no exemplo abaixo, todo o texto abaixo da função `%%writefile` é adicionado ao arquivo teste.txt."
   ]
  },
  {
   "cell_type": "code",
   "execution_count": 60,
   "metadata": {},
   "outputs": [
    {
     "name": "stdout",
     "output_type": "stream",
     "text": [
      "Overwriting teste.txt\n"
     ]
    }
   ],
   "source": [
    "%%writefile teste.txt\n",
    "\n",
    "Olá\n",
    "\n",
    "Este texto será armazenado no arquivo de texto \"teste.txt\".\n"
   ]
  },
  {
   "cell_type": "code",
   "execution_count": null,
   "metadata": {},
   "outputs": [],
   "source": []
  }
 ],
 "metadata": {
  "kernelspec": {
   "display_name": "Python [conda env:ativ_jupyter] *",
   "language": "python",
   "name": "conda-env-ativ_jupyter-py"
  },
  "language_info": {
   "codemirror_mode": {
    "name": "ipython",
    "version": 3
   },
   "file_extension": ".py",
   "mimetype": "text/x-python",
   "name": "python",
   "nbconvert_exporter": "python",
   "pygments_lexer": "ipython3",
   "version": "3.7.4"
  }
 },
 "nbformat": 4,
 "nbformat_minor": 2
}
