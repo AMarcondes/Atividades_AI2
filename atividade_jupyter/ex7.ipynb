{
 "cells": [
  {
   "cell_type": "markdown",
   "metadata": {},
   "source": [
    "A pasta pode ser acessada através do seguinte link: [Marcondes Profile](https://github.com/AMarcondes/profile/)\n",
    "\n",
    "O conteúdo do readme é também apresentado abaixo."
   ]
  },
  {
   "cell_type": "markdown",
   "metadata": {},
   "source": [
    "# Profile\n",
    "\n",
    "## Alexandre Marcondes\n",
    "\n",
    "## Resumo\n",
    "Engenheiro de Energia e Mestre em Engenharia Elétrica e Computação.\n",
    "Atualmente residente do Pograma de residência de inteligência artificial (IA) do SENAI-PR.\n",
    "Meu grande interesse atual é a aplicação da IA na engenharia.\n",
    "\n",
    "## Formação\n",
    "\n",
    "### _Em andamento_\n",
    "* Especialização em Inteligência Artificial Aplicada a Indústria - _SENAI-PR_\n",
    "\n",
    "### _Concluído_\n",
    "* Mestrado em Engenharia Elétrica e Computação - _UNIOESTE_\n",
    "* Engenharia de Energia, 1 ano de graduação sanduíche na Itália - _Universitá di Pisa_\n",
    "* Graduação em Engenharia de Energia - _UNILA_\n",
    "\n",
    "## Experiência profissional\n",
    "\n",
    "### _Atual_\n",
    "* Residente do HUB em Inteligência Artificial Aplicada a Indústria - _SENAI-PR_\n",
    "\n",
    "### _Anteriores_\n",
    "* Professor substituto por breve período no curso de Engenharia Elétrica - _UDC Faculdades_\n",
    "* Bolsista de mestrado no Laboratório de Baterias - _Fundação Parque Tecnológico Itaipu - FPTI_\n",
    "* Estagiário no setor de produção - _Itaipu Binacional_\n"
   ]
  },
  {
   "cell_type": "code",
   "execution_count": null,
   "metadata": {},
   "outputs": [],
   "source": []
  }
 ],
 "metadata": {
  "kernelspec": {
   "display_name": "Python [conda env:ativ_jupyter] *",
   "language": "python",
   "name": "conda-env-ativ_jupyter-py"
  },
  "language_info": {
   "codemirror_mode": {
    "name": "ipython",
    "version": 3
   },
   "file_extension": ".py",
   "mimetype": "text/x-python",
   "name": "python",
   "nbconvert_exporter": "python",
   "pygments_lexer": "ipython3",
   "version": "3.7.4"
  }
 },
 "nbformat": 4,
 "nbformat_minor": 2
}
